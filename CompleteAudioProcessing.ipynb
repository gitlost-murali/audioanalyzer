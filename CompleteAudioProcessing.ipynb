{
 "cells": [
  {
   "cell_type": "code",
   "execution_count": null,
   "metadata": {},
   "outputs": [],
   "source": [
    "# from pydub import AudioSegment\n",
    "# from pydub.playback import play\n",
    "\n",
    "# # read in audio file and get the two mono tracks\n",
    "# myAudioFile = 'yrkkh_2.mp4'\n",
    "# sound_stereo = AudioSegment.from_file(myAudioFile, format=\"mp4\")\n",
    "# sound_monoL = sound_stereo.split_to_mono()[0]\n",
    "# sound_monoR = sound_stereo.split_to_mono()[1]\n",
    "\n",
    "# # Invert phase of the Right audio file\n",
    "# sound_monoR_inv = sound_monoR.invert_phase()\n",
    "\n",
    "# # Merge two L and R_inv files, this cancels out the centers\n",
    "# sound_CentersOut = sound_monoL.overlay(sound_monoR_inv)\n",
    "\n",
    "# # Export merged audio file\n",
    "# fh = sound_CentersOut.export('out2.mp3', format=\"mp3\")"
   ]
  },
  {
   "cell_type": "code",
   "execution_count": 1,
   "metadata": {},
   "outputs": [],
   "source": [
    "from __future__ import print_function\n",
    "from pydub import AudioSegment\n",
    "from pydub.playback import play\n",
    "import os \n",
    "import glob\n",
    "from tqdm import tqdm, tqdm_notebook\n",
    "import numpy as np\n",
    "import matplotlib.pyplot as plt\n",
    "\n",
    "import librosa\n",
    "import librosa.display\n",
    "from pathlib import Path"
   ]
  },
  {
   "cell_type": "code",
   "execution_count": 2,
   "metadata": {},
   "outputs": [],
   "source": [
    "def extract_music_bgm(myAudioFile):\n",
    "    # read in audio file and get the two mono tracks\n",
    "    os.chdir(videos_folder) # Go to videos folder\n",
    "    sound_stereo = AudioSegment.from_file(myAudioFile, format=\"mp4\")\n",
    "    os.chdir(\"..\")  # Come back to root directory\n",
    "    sound_monoL = sound_stereo.split_to_mono()[0]\n",
    "    sound_monoR = sound_stereo.split_to_mono()[1]\n",
    "    \n",
    "    \n",
    "    # Invert phase of the Right audio file\n",
    "    sound_monoR_inv = sound_monoR.invert_phase()\n",
    "\n",
    "    # Merge two L and R_inv files, this cancels out the centers\n",
    "    sound_CentersOut = sound_monoL.overlay(sound_monoR_inv)\n",
    "\n",
    "    # Export merged audio file\n",
    "    fh = sound_CentersOut.export('{}/{}_bgm.mp3'.format(bgm_folder,myAudioFile.split(\".\")[0]), format=\"mp3\")"
   ]
  },
  {
   "cell_type": "code",
   "execution_count": 3,
   "metadata": {},
   "outputs": [],
   "source": [
    "\n",
    "def mkdir_ifnot(foldr):  # If the folder passed doesn't exist, this function creates one \n",
    "    if not os.path.exists(foldr): os.mkdir(foldr)"
   ]
  },
  {
   "cell_type": "code",
   "execution_count": 4,
   "metadata": {},
   "outputs": [],
   "source": [
    "videos_folder = 'videos/' \n",
    "bgm_folder = 'bgm/' \n",
    "img_dir ='gen_bgm_img/'\n",
    "\n",
    "mkdir_ifnot(videos_folder)\n",
    "mkdir_ifnot(bgm_folder)\n",
    "mkdir_ifnot(img_dir)"
   ]
  },
  {
   "cell_type": "code",
   "execution_count": 5,
   "metadata": {},
   "outputs": [],
   "source": [
    "def process_videos(videos_folder):\n",
    "    for vid in tqdm_notebook(glob.glob(\"{}*.mp4\".format(videos_folder))):\n",
    "        vid = os.path.basename(vid)\n",
    "        try:\n",
    "            extract_music_bgm(vid)\n",
    "        except Exception as e:\n",
    "            print(\"error is \",e,vid)"
   ]
  },
  {
   "cell_type": "code",
   "execution_count": 6,
   "metadata": {},
   "outputs": [],
   "source": [
    "# process_videos(videos_folder)"
   ]
  },
  {
   "cell_type": "code",
   "execution_count": null,
   "metadata": {},
   "outputs": [],
   "source": []
  },
  {
   "cell_type": "code",
   "execution_count": 7,
   "metadata": {},
   "outputs": [],
   "source": [
    "start,end = -0.0000001, 0.0000001"
   ]
  },
  {
   "cell_type": "code",
   "execution_count": 8,
   "metadata": {},
   "outputs": [],
   "source": [
    "def produce_chunks(audio,sr):\n",
    "    \n",
    "    checkpoints = [0] \n",
    "    \n",
    "    checkpoint_flag = 0          # 0 means off \n",
    "    \n",
    "    for idx,amp in enumerate(audio):\n",
    "        \n",
    "        if amp>start and amp<end and checkpoint_flag == 0:\n",
    "            checkpoint_flag = 1\n",
    "            checkpoints.append(idx/sr)\n",
    "        \n",
    "        elif amp>start and amp<end and checkpoint_flag == 1:\n",
    "            checkpoint_flag = 1\n",
    "        \n",
    "        elif ( amp<start or amp>end ) and checkpoint_flag == 1:\n",
    "            checkpoint_flag = 0\n",
    "            checkpoints.append(idx/sr)\n",
    "\n",
    "        \n",
    "#     return checkpoints\n",
    "#     print(checkpoints)\n",
    "    \n",
    "    \n",
    "    ## Making tuples for storing chunks\n",
    "    prev = 0\n",
    "    chunks = []\n",
    "    for checkpoint in checkpoints:\n",
    "        if not checkpoint - prev > 4: continue\n",
    "        chunks.append((prev,checkpoint))\n",
    "        prev = checkpoint\n",
    "    \n",
    "    del checkpoints  # Saving space. Not needed\n",
    "    \n",
    "    return chunks"
   ]
  },
  {
   "cell_type": "code",
   "execution_count": 9,
   "metadata": {},
   "outputs": [],
   "source": [
    "def make_chunks(audio,sr):\n",
    "    \n",
    "    checkpoints = [0] \n",
    "    \n",
    "    checkpoint_flag = 0          # 0 means off \n",
    "    \n",
    "    for idx,amp in enumerate(audio):\n",
    "        \n",
    "        if amp == 0.0 and checkpoint_flag == 0:\n",
    "            checkpoint_flag = 1\n",
    "            checkpoints.append(idx/sr)\n",
    "        \n",
    "        elif amp == 0.0 and checkpoint_flag == 1:\n",
    "            checkpoint_flag = 1\n",
    "        \n",
    "        elif amp!=0 and checkpoint_flag == 1:\n",
    "            checkpoint_flag = 0\n",
    "            checkpoints.append(idx/sr)\n",
    "\n",
    "        \n",
    "#     return checkpoints\n",
    "#     print(checkpoints)\n",
    "    \n",
    "    \n",
    "    ## Making tuples for storing chunks\n",
    "    prev = 0\n",
    "    chunks = []\n",
    "    for checkpoint in checkpoints:\n",
    "        if not checkpoint - prev > 2: continue\n",
    "        chunks.append((prev,checkpoint))\n",
    "        prev = checkpoint\n",
    "    \n",
    "    del checkpoints # Saving space, not needed.\n",
    "    \n",
    "    return chunks"
   ]
  },
  {
   "cell_type": "code",
   "execution_count": 10,
   "metadata": {},
   "outputs": [],
   "source": [
    "import pylab\n",
    "\n",
    "def save_images(S_full,y,sr,strtend_list,filesavename='test'):\n",
    "    \n",
    "\n",
    "    pylab.axis('off') # no axis\n",
    "    pylab.axes([0., 0., 1., 1.], frameon=False, xticks=[], yticks=[]) # Remove the white edge\n",
    "\n",
    "    \n",
    "    for indx,(start,end) in tqdm_notebook(enumerate(strtend_list),desc='Creating files',total=len(strtend_list)):\n",
    "        start=int(start)\n",
    "        end = int(end)\n",
    "        idx = slice(*librosa.time_to_frames([start, end], sr=sr))\n",
    "        librosa.display.specshow(librosa.amplitude_to_db(S_full[:, idx], ref=np.max),\n",
    "                                 y_axis='log', x_axis='time', sr=sr)\n",
    "        filnamenow = \"{}to{}.jpg\".format(start,end)\n",
    "        filnamefldr = \"{}/{}\".format(str(img_dir),str(filesavename))\n",
    "        \n",
    "        if not os.path.exists(filnamefldr):          # Storing every image with its own name\n",
    "            mkdir_ifnot(filnamefldr)\n",
    "            \n",
    "        pylab.savefig(\"{}/{}\".format(filnamefldr,filnamenow), bbox_inches=None, pad_inches=0)\n",
    "        librosa.output.write_wav('{}/file_trim_{}to{}.wav'.format(filnamefldr,start,end), y[start*sr:end*sr], sr)\n",
    "            \n",
    "    pylab.close()"
   ]
  },
  {
   "cell_type": "code",
   "execution_count": 21,
   "metadata": {},
   "outputs": [],
   "source": [
    "??librosa.output.write_wav"
   ]
  },
  {
   "cell_type": "code",
   "execution_count": 11,
   "metadata": {},
   "outputs": [],
   "source": [
    "def make_aud_chunks_images(mp3_file):\n",
    "    \n",
    "    os.chdir(bgm_folder)\n",
    "    print(\"Chunking ...\")\n",
    "    y, sr = librosa.load('{}'.format(mp3_file), duration=None)\n",
    "    os.chdir(\"..\")\n",
    "    \n",
    "    print(\"Producing chunks ...\")\n",
    "    # And compute the spectrogram magnitude and phase\n",
    "    S_full, phase = librosa.magphase(librosa.stft(y))\n",
    "    audio_chunks = produce_chunks(y,sr)\n",
    "        \n",
    "    \n",
    "    save_images(S_full,y,sr,audio_chunks,\"{}\".format(mp3_file.split(\".\")[:-1]))\n",
    "    del audio_chunks  # Saving space.\n",
    "    \n",
    "#     return audio_chunks # No need to return"
   ]
  },
  {
   "cell_type": "code",
   "execution_count": 12,
   "metadata": {},
   "outputs": [],
   "source": [
    "import time"
   ]
  },
  {
   "cell_type": "code",
   "execution_count": 13,
   "metadata": {},
   "outputs": [],
   "source": [
    "def process_bgms(bgm_folder):\n",
    "    for vid in tqdm(glob.glob(\"{}*.mp3\".format(bgm_folder))):\n",
    "        vid = os.path.basename(vid)\n",
    "        try:\n",
    "            make_aud_chunks_images(vid)\n",
    "        except Exception as e:\n",
    "            print(\"error is \",e,vid)"
   ]
  },
  {
   "cell_type": "code",
   "execution_count": 14,
   "metadata": {},
   "outputs": [
    {
     "name": "stderr",
     "output_type": "stream",
     "text": [
      "\r",
      "  0%|          | 0/31 [00:00<?, ?it/s]"
     ]
    },
    {
     "name": "stdout",
     "output_type": "stream",
     "text": [
      "Chunking ...\n",
      "Producing chunks ...\n"
     ]
    },
    {
     "data": {
      "application/vnd.jupyter.widget-view+json": {
       "model_id": "6b2e5ed3bd184a178532f139f226bebf",
       "version_major": 2,
       "version_minor": 0
      },
      "text/plain": [
       "HBox(children=(IntProgress(value=0, description='Creating files', max=78, style=ProgressStyle(description_widt…"
      ]
     },
     "metadata": {},
     "output_type": "display_data"
    },
    {
     "name": "stderr",
     "output_type": "stream",
     "text": [
      "\r",
      "  3%|▎         | 1/31 [02:35<1:17:45, 155.52s/it]"
     ]
    },
    {
     "name": "stdout",
     "output_type": "stream",
     "text": [
      "Chunking ...\n",
      "Producing chunks ...\n"
     ]
    },
    {
     "ename": "KeyboardInterrupt",
     "evalue": "",
     "output_type": "error",
     "traceback": [
      "\u001b[0;31m---------------------------------------------------------------------------\u001b[0m",
      "\u001b[0;31mKeyboardInterrupt\u001b[0m                         Traceback (most recent call last)",
      "\u001b[0;32m<ipython-input-14-2530fee2ad2f>\u001b[0m in \u001b[0;36m<module>\u001b[0;34m\u001b[0m\n\u001b[0;32m----> 1\u001b[0;31m \u001b[0mprocess_bgms\u001b[0m\u001b[0;34m(\u001b[0m\u001b[0mbgm_folder\u001b[0m\u001b[0;34m)\u001b[0m\u001b[0;34m\u001b[0m\u001b[0;34m\u001b[0m\u001b[0m\n\u001b[0m",
      "\u001b[0;32m<ipython-input-13-db1788ab816c>\u001b[0m in \u001b[0;36mprocess_bgms\u001b[0;34m(bgm_folder)\u001b[0m\n\u001b[1;32m      3\u001b[0m         \u001b[0mvid\u001b[0m \u001b[0;34m=\u001b[0m \u001b[0mos\u001b[0m\u001b[0;34m.\u001b[0m\u001b[0mpath\u001b[0m\u001b[0;34m.\u001b[0m\u001b[0mbasename\u001b[0m\u001b[0;34m(\u001b[0m\u001b[0mvid\u001b[0m\u001b[0;34m)\u001b[0m\u001b[0;34m\u001b[0m\u001b[0;34m\u001b[0m\u001b[0m\n\u001b[1;32m      4\u001b[0m         \u001b[0;32mtry\u001b[0m\u001b[0;34m:\u001b[0m\u001b[0;34m\u001b[0m\u001b[0;34m\u001b[0m\u001b[0m\n\u001b[0;32m----> 5\u001b[0;31m             \u001b[0mmake_aud_chunks_images\u001b[0m\u001b[0;34m(\u001b[0m\u001b[0mvid\u001b[0m\u001b[0;34m)\u001b[0m\u001b[0;34m\u001b[0m\u001b[0;34m\u001b[0m\u001b[0m\n\u001b[0m\u001b[1;32m      6\u001b[0m         \u001b[0;32mexcept\u001b[0m \u001b[0mException\u001b[0m \u001b[0;32mas\u001b[0m \u001b[0me\u001b[0m\u001b[0;34m:\u001b[0m\u001b[0;34m\u001b[0m\u001b[0;34m\u001b[0m\u001b[0m\n\u001b[1;32m      7\u001b[0m             \u001b[0mprint\u001b[0m\u001b[0;34m(\u001b[0m\u001b[0;34m\"error is \"\u001b[0m\u001b[0;34m,\u001b[0m\u001b[0me\u001b[0m\u001b[0;34m,\u001b[0m\u001b[0mvid\u001b[0m\u001b[0;34m)\u001b[0m\u001b[0;34m\u001b[0m\u001b[0;34m\u001b[0m\u001b[0m\n",
      "\u001b[0;32m<ipython-input-11-2b2da6e989ec>\u001b[0m in \u001b[0;36mmake_aud_chunks_images\u001b[0;34m(mp3_file)\u001b[0m\n\u001b[1;32m      9\u001b[0m     \u001b[0;31m# And compute the spectrogram magnitude and phase\u001b[0m\u001b[0;34m\u001b[0m\u001b[0;34m\u001b[0m\u001b[0;34m\u001b[0m\u001b[0m\n\u001b[1;32m     10\u001b[0m     \u001b[0mS_full\u001b[0m\u001b[0;34m,\u001b[0m \u001b[0mphase\u001b[0m \u001b[0;34m=\u001b[0m \u001b[0mlibrosa\u001b[0m\u001b[0;34m.\u001b[0m\u001b[0mmagphase\u001b[0m\u001b[0;34m(\u001b[0m\u001b[0mlibrosa\u001b[0m\u001b[0;34m.\u001b[0m\u001b[0mstft\u001b[0m\u001b[0;34m(\u001b[0m\u001b[0my\u001b[0m\u001b[0;34m)\u001b[0m\u001b[0;34m)\u001b[0m\u001b[0;34m\u001b[0m\u001b[0;34m\u001b[0m\u001b[0m\n\u001b[0;32m---> 11\u001b[0;31m     \u001b[0maudio_chunks\u001b[0m \u001b[0;34m=\u001b[0m \u001b[0mproduce_chunks\u001b[0m\u001b[0;34m(\u001b[0m\u001b[0my\u001b[0m\u001b[0;34m,\u001b[0m\u001b[0msr\u001b[0m\u001b[0;34m)\u001b[0m\u001b[0;34m\u001b[0m\u001b[0;34m\u001b[0m\u001b[0m\n\u001b[0m\u001b[1;32m     12\u001b[0m \u001b[0;34m\u001b[0m\u001b[0m\n\u001b[1;32m     13\u001b[0m \u001b[0;34m\u001b[0m\u001b[0m\n",
      "\u001b[0;32m<ipython-input-8-0849a3963ed7>\u001b[0m in \u001b[0;36mproduce_chunks\u001b[0;34m(audio, sr)\u001b[0m\n\u001b[1;32m     14\u001b[0m             \u001b[0mcheckpoint_flag\u001b[0m \u001b[0;34m=\u001b[0m \u001b[0;36m1\u001b[0m\u001b[0;34m\u001b[0m\u001b[0;34m\u001b[0m\u001b[0m\n\u001b[1;32m     15\u001b[0m \u001b[0;34m\u001b[0m\u001b[0m\n\u001b[0;32m---> 16\u001b[0;31m         \u001b[0;32melif\u001b[0m \u001b[0;34m(\u001b[0m \u001b[0mamp\u001b[0m\u001b[0;34m<\u001b[0m\u001b[0mstart\u001b[0m \u001b[0;32mor\u001b[0m \u001b[0mamp\u001b[0m\u001b[0;34m>\u001b[0m\u001b[0mend\u001b[0m \u001b[0;34m)\u001b[0m \u001b[0;32mand\u001b[0m \u001b[0mcheckpoint_flag\u001b[0m \u001b[0;34m==\u001b[0m \u001b[0;36m1\u001b[0m\u001b[0;34m:\u001b[0m\u001b[0;34m\u001b[0m\u001b[0;34m\u001b[0m\u001b[0m\n\u001b[0m\u001b[1;32m     17\u001b[0m             \u001b[0mcheckpoint_flag\u001b[0m \u001b[0;34m=\u001b[0m \u001b[0;36m0\u001b[0m\u001b[0;34m\u001b[0m\u001b[0;34m\u001b[0m\u001b[0m\n\u001b[1;32m     18\u001b[0m             \u001b[0mcheckpoints\u001b[0m\u001b[0;34m.\u001b[0m\u001b[0mappend\u001b[0m\u001b[0;34m(\u001b[0m\u001b[0midx\u001b[0m\u001b[0;34m/\u001b[0m\u001b[0msr\u001b[0m\u001b[0;34m)\u001b[0m\u001b[0;34m\u001b[0m\u001b[0;34m\u001b[0m\u001b[0m\n",
      "\u001b[0;31mKeyboardInterrupt\u001b[0m: "
     ]
    }
   ],
   "source": [
    "process_bgms(bgm_folder)"
   ]
  },
  {
   "cell_type": "code",
   "execution_count": null,
   "metadata": {},
   "outputs": [],
   "source": []
  },
  {
   "cell_type": "code",
   "execution_count": null,
   "metadata": {},
   "outputs": [],
   "source": []
  }
 ],
 "metadata": {
  "kernelspec": {
   "display_name": "Python 3",
   "language": "python",
   "name": "python3"
  },
  "language_info": {
   "codemirror_mode": {
    "name": "ipython",
    "version": 3
   },
   "file_extension": ".py",
   "mimetype": "text/x-python",
   "name": "python",
   "nbconvert_exporter": "python",
   "pygments_lexer": "ipython3",
   "version": "3.7.3"
  },
  "varInspector": {
   "cols": {
    "lenName": 16,
    "lenType": 16,
    "lenVar": 40
   },
   "kernels_config": {
    "python": {
     "delete_cmd_postfix": "",
     "delete_cmd_prefix": "del ",
     "library": "var_list.py",
     "varRefreshCmd": "print(var_dic_list())"
    },
    "r": {
     "delete_cmd_postfix": ") ",
     "delete_cmd_prefix": "rm(",
     "library": "var_list.r",
     "varRefreshCmd": "cat(var_dic_list()) "
    }
   },
   "position": {
    "height": "284.85px",
    "left": "1475px",
    "right": "20px",
    "top": "437px",
    "width": "351px"
   },
   "types_to_exclude": [
    "module",
    "function",
    "builtin_function_or_method",
    "instance",
    "_Feature"
   ],
   "window_display": false
  }
 },
 "nbformat": 4,
 "nbformat_minor": 2
}
