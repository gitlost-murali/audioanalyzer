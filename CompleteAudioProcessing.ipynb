{
 "cells": [
  {
   "cell_type": "code",
   "execution_count": null,
   "metadata": {},
   "outputs": [],
   "source": [
    "from pydub import AudioSegment\n",
    "from pydub.playback import play\n",
    "\n",
    "# read in audio file and get the two mono tracks\n",
    "myAudioFile = 'yrkkh_2.mp4'\n",
    "sound_stereo = AudioSegment.from_file(myAudioFile, format=\"mp4\")\n",
    "sound_monoL = sound_stereo.split_to_mono()[0]\n",
    "sound_monoR = sound_stereo.split_to_mono()[1]\n",
    "\n",
    "# Invert phase of the Right audio file\n",
    "sound_monoR_inv = sound_monoR.invert_phase()\n",
    "\n",
    "# Merge two L and R_inv files, this cancels out the centers\n",
    "sound_CentersOut = sound_monoL.overlay(sound_monoR_inv)\n",
    "\n",
    "# Export merged audio file\n",
    "fh = sound_CentersOut.export('out2.mp3', format=\"mp3\")"
   ]
  },
  {
   "cell_type": "code",
   "execution_count": 1,
   "metadata": {},
   "outputs": [],
   "source": [
    "from __future__ import print_function\n",
    "from pydub import AudioSegment\n",
    "from pydub.playback import play\n",
    "import os \n",
    "import glob\n",
    "from tqdm import tqdm, tqdm_notebook\n",
    "import numpy as np\n",
    "import matplotlib.pyplot as plt\n",
    "\n",
    "import librosa\n",
    "import librosa.display\n",
    "from pathlib import Path\n",
    "from tqdm import tqdm"
   ]
  },
  {
   "cell_type": "code",
   "execution_count": 2,
   "metadata": {},
   "outputs": [],
   "source": [
    "def extract_music_bgm(myAudioFile):\n",
    "    # read in audio file and get the two mono tracks\n",
    "    os.chdir(videos_folder) # Go to videos folder\n",
    "    sound_stereo = AudioSegment.from_file(myAudioFile, format=\"mp4\")\n",
    "    os.chdir(\"..\")  # Come back to root directory\n",
    "    sound_monoL = sound_stereo.split_to_mono()[0]\n",
    "    sound_monoR = sound_stereo.split_to_mono()[1]\n",
    "    \n",
    "    \n",
    "    # Invert phase of the Right audio file\n",
    "    sound_monoR_inv = sound_monoR.invert_phase()\n",
    "\n",
    "    # Merge two L and R_inv files, this cancels out the centers\n",
    "    sound_CentersOut = sound_monoL.overlay(sound_monoR_inv)\n",
    "\n",
    "    # Export merged audio file\n",
    "    fh = sound_CentersOut.export('{}/{}_bgm.mp3'.format(bgm_folder,myAudioFile.split(\".\")[0]), format=\"mp3\")"
   ]
  },
  {
   "cell_type": "code",
   "execution_count": 3,
   "metadata": {},
   "outputs": [],
   "source": [
    "\n",
    "def mkdir_ifnot(foldr):  # If the folder passed doesn't exist, this function creates one \n",
    "    if not os.path.exists(foldr): os.mkdir(foldr)"
   ]
  },
  {
   "cell_type": "code",
   "execution_count": 4,
   "metadata": {},
   "outputs": [],
   "source": [
    "videos_folder = 'videos/'\n",
    "bgm_folder = 'bgm/'\n",
    "img_dir ='gen_bgm_img/'\n",
    "\n",
    "mkdir_ifnot(videos_folder)\n",
    "mkdir_ifnot(bgm_folder)\n",
    "mkdir_ifnot(img_dir)"
   ]
  },
  {
   "cell_type": "code",
   "execution_count": 5,
   "metadata": {},
   "outputs": [],
   "source": [
    "def process_videos(videos_folder):\n",
    "    for vid in tqdm(glob.glob(\"{}*.mp4\".format(videos_folder))):\n",
    "        vid = os.path.basename(vid)\n",
    "        try:\n",
    "            extract_music_bgm(vid)\n",
    "        except Exception as e:\n",
    "            print(\"error is \",e,vid)"
   ]
  },
  {
   "cell_type": "code",
   "execution_count": null,
   "metadata": {},
   "outputs": [],
   "source": [
    "# process_videos(videos_folder)"
   ]
  },
  {
   "cell_type": "code",
   "execution_count": null,
   "metadata": {},
   "outputs": [],
   "source": []
  },
  {
   "cell_type": "code",
   "execution_count": null,
   "metadata": {},
   "outputs": [],
   "source": []
  },
  {
   "cell_type": "code",
   "execution_count": 6,
   "metadata": {},
   "outputs": [],
   "source": [
    "def make_chunks(audio,sr):\n",
    "    \n",
    "    checkpoints = [0] \n",
    "    \n",
    "    checkpoint_flag = 0          # 0 means off \n",
    "    \n",
    "    for idx,amp in enumerate(audio):\n",
    "        \n",
    "        if amp == 0.0 and checkpoint_flag == 0:\n",
    "            checkpoint_flag = 1\n",
    "            checkpoints.append(idx/sr)\n",
    "        \n",
    "        elif amp == 0.0 and checkpoint_flag == 1:\n",
    "            checkpoint_flag = 1\n",
    "        \n",
    "        elif amp!=0 and checkpoint_flag == 1:\n",
    "            checkpoint_flag = 0\n",
    "            checkpoints.append(idx/sr)\n",
    "\n",
    "        \n",
    "#     return checkpoints\n",
    "#     print(checkpoints)\n",
    "    \n",
    "    \n",
    "    ## Making tuples for storing chunks\n",
    "    prev = 0\n",
    "    chunks = []\n",
    "    for checkpoint in checkpoints:\n",
    "        if not checkpoint - prev > 2: continue\n",
    "        chunks.append((prev,checkpoint))\n",
    "        prev = checkpoint\n",
    "    \n",
    "    return checkpoints,chunks"
   ]
  },
  {
   "cell_type": "code",
   "execution_count": 7,
   "metadata": {},
   "outputs": [],
   "source": [
    "import pylab\n",
    "\n",
    "def save_images(S_full,sr,strtend_list,filesavename='test'):\n",
    "    \n",
    "    print(\"SAVE IMAGES is called\")\n",
    "    pylab.axis('off') # no axis\n",
    "\n",
    "    pylab.axes([0., 0., 1., 1.], frameon=False, xticks=[], yticks=[]) # Remove the white edge\n",
    "\n",
    "    \n",
    "    for indx,(start,end) in enumerate(strtend_list):\n",
    "#         print(start,end)\n",
    "        start=int(start)\n",
    "        end = int(end)\n",
    "        idx = slice(*librosa.time_to_frames([start, end], sr=sr))\n",
    "        librosa.display.specshow(librosa.amplitude_to_db(S_full[:, idx], ref=np.max),\n",
    "                                 y_axis='log', x_axis='time', sr=sr)\n",
    "        \n",
    "        filnamenow = \"{}to{}.jpg\".format(filesavename,start,end)\n",
    "        \n",
    "        filnamefldr = Path(\"{}/{}\".format(img_dir,os.path.basename(filnamenow)))\n",
    "        \n",
    "        if not filnamefldr.exists():\n",
    "            filnamefldr.mkdir()          # Storing every image with its own name\n",
    "        \n",
    "        pylab.savefig(filnamefldr/filnamenow, bbox_inches=None, pad_inches=0)\n",
    "            \n",
    "    pylab.close()"
   ]
  },
  {
   "cell_type": "code",
   "execution_count": 8,
   "metadata": {},
   "outputs": [],
   "source": [
    "def make_aud_chunks_images(mp3_file):\n",
    "    os.chdir(bgm_folder)\n",
    "    print(\"AUDIO chunks start load\")\n",
    "    y, sr = librosa.load('{}'.format(mp3_file), duration=None)\n",
    "    print(\"AUDIO chunks stop load\")\n",
    "    os.chdir(\"..\")\n",
    "    # And compute the spectrogram magnitude and phase\n",
    "    S_full, phase = librosa.magphase(librosa.stft(y))\n",
    "    _,audio_chunks = make_chunks(y,sr)\n",
    "    print(\"Save images start save\")\n",
    "    save_images(S_full,sr,audio_chunks,\"{}\".format(mp3_file.split(\".\")[:-1]))\n",
    "    return audio_chunks"
   ]
  },
  {
   "cell_type": "code",
   "execution_count": 9,
   "metadata": {},
   "outputs": [],
   "source": [
    "def process_bgms(bgm_folder):\n",
    "    for vid in tqdm(glob.glob(\"{}*.mp3\".format(bgm_folder))):\n",
    "        vid = os.path.basename(vid)\n",
    "        try:\n",
    "            make_aud_chunks_images(vid)\n",
    "        except Exception as e:\n",
    "            print(\"error is \",e,vid)"
   ]
  },
  {
   "cell_type": "code",
   "execution_count": null,
   "metadata": {},
   "outputs": [
    {
     "name": "stderr",
     "output_type": "stream",
     "text": [
      "\r",
      "  0%|          | 0/7 [00:00<?, ?it/s]"
     ]
    },
    {
     "name": "stdout",
     "output_type": "stream",
     "text": [
      "AUDIO chunks start load\n"
     ]
    }
   ],
   "source": [
    "process_bgms(bgm_folder)"
   ]
  },
  {
   "cell_type": "code",
   "execution_count": null,
   "metadata": {},
   "outputs": [],
   "source": []
  },
  {
   "cell_type": "code",
   "execution_count": null,
   "metadata": {},
   "outputs": [],
   "source": []
  }
 ],
 "metadata": {
  "kernelspec": {
   "display_name": "Python 3",
   "language": "python",
   "name": "python3"
  },
  "language_info": {
   "codemirror_mode": {
    "name": "ipython",
    "version": 3
   },
   "file_extension": ".py",
   "mimetype": "text/x-python",
   "name": "python",
   "nbconvert_exporter": "python",
   "pygments_lexer": "ipython3",
   "version": "3.7.3"
  }
 },
 "nbformat": 4,
 "nbformat_minor": 2
}
